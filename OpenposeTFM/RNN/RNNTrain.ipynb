{
 "cells": [
  {
   "cell_type": "code",
   "execution_count": 12,
   "metadata": {},
   "outputs": [
    {
     "name": "stderr",
     "output_type": "stream",
     "text": [
      "El sistema no puede encontrar la ruta especificada.\n"
     ]
    }
   ],
   "source": [
    "\n",
    "!git clone https://github.com/MVIG-SJTU/AlphaPose.git\n",
    "!cd AlphaPose\n",
    "!pip install -r requirements.txt"
   ]
  },
  {
   "cell_type": "code",
   "execution_count": 15,
   "metadata": {},
   "outputs": [
    {
     "name": "stderr",
     "output_type": "stream",
     "text": [
      "fatal: destination path 'C:\\Users\\malej\\OneDrive\\Escritorio\\Cosas de Sebastian\\Tesis Master\\openpose' already exists and is not an empty directory.\n"
     ]
    }
   ],
   "source": [
    "!python -m venv alphapose_env\n",
    "!alphapose_env\\Scripts\\activate"
   ]
  },
  {
   "cell_type": "code",
   "execution_count": null,
   "metadata": {},
   "outputs": [],
   "source": [
    "import torch\n",
    "import cv2\n",
    "import numpy as np\n",
    "from alphapose.models import builder\n",
    "from alphapose.utils.config import update_config\n",
    "from alphapose.utils.presets import SimpleTransform\n",
    "from detector.apis import get_detector\n",
    "from alphapose.utils.transforms import get_func_heatmap_to_coord\n",
    "\n",
    "def process_image(image_path):\n",
    "    cfg = update_config('configs/coco/resnet/256x192_res50_lr1e-3_1x.yaml')\n",
    "    detector = get_detector(cfg)\n",
    "\n",
    "    pose_model = builder.build_sppe(cfg.MODEL, preset_cfg=cfg.DATA_PRESET)\n",
    "    pose_model.load_state_dict(torch.load(cfg.MODEL.PRETRAINED, map_location='cpu'))\n",
    "\n",
    "    pose_model = pose_model.cuda()\n",
    "    pose_model.eval()\n",
    "\n",
    "    image = cv2.imread(image_path)\n",
    "    image = cv2.cvtColor(image, cv2.COLOR_BGR2RGB)\n",
    "\n",
    "    bbox = detector(image)\n",
    "    bbox = bbox[:, 0:4]\n",
    "\n",
    "    transform = SimpleTransform(\n",
    "        pose_model.input_size, pose_model.output_size,\n",
    "        mean=pose_model.pixel_mean, std=pose_model.pixel_std, scale_factor=cfg.DATASET.SCALE_FACTOR,\n",
    "        rotation_factor=cfg.DATASET.ROT_FACTOR, do_flip=cfg.DATASET.DO_FLIP,\n",
    "        keypoints_flip=cfg.DATASET.KEYPOINTS_FLIP, keypoints_order=cfg.DATASET.KEYPOINTS_ORDER,\n",
    "        keypoints_symmetry=cfg.DATASET.KEYPOINTS_SYMMETRY, aug_seq=cfg.DATASET.AUG_SEQ)\n",
    "\n",
    "    with torch.no_grad():\n",
    "        batch_data = []\n",
    "        for box in bbox:\n",
    "            input_data, orig_image, center, scale = transform(image, box)\n",
    "            batch_data.append(input_data)\n",
    "        \n",
    "        batch_data = torch.stack(batch_data).cuda()\n",
    "        heatmaps = pose_model(batch_data)\n",
    "        coords = get_func_heatmap_to_coord(cfg.DATA_PRESET)\n",
    "        preds = coords(heatmaps, batch_data)\n",
    "\n",
    "    return preds\n",
    "\n",
    "if __name__ == \"__main__\":\n",
    "    preds = process_image('img.jpg')\n",
    "    print(preds)\n"
   ]
  },
  {
   "cell_type": "code",
   "execution_count": null,
   "metadata": {},
   "outputs": [],
   "source": [
    "import torch.nn as nn\n",
    "\n",
    "class SimpleRNN(nn.Module):\n",
    "    def __init__(self, input_size, hidden_size, num_layers, num_classes):\n",
    "        super(SimpleRNN, self).__init__()\n",
    "        self.hidden_size = hidden_size\n",
    "        self.num_layers = num_layers\n",
    "        self.rnn = nn.RNN(input_size, hidden_size, num_layers, batch_first=True)\n",
    "        self.fc = nn.Linear(hidden_size, num_classes)\n",
    "    \n",
    "    def forward(self, x):\n",
    "        h0 = torch.zeros(self.num_layers, x.size(0), self.hidden_size).to(x.device)\n",
    "        out, _ = self.rnn(x, h0)\n",
    "        out = self.fc(out[:, -1, :])\n",
    "        return out\n",
    "\n",
    "input_size = 17 * 2\n",
    "hidden_size = 128\n",
    "num_layers = 2\n",
    "num_classes = 10 \n",
    "\n",
    "model = SimpleRNN(input_size, hidden_size, num_layers, num_classes)\n",
    "\n"
   ]
  },
  {
   "cell_type": "code",
   "execution_count": null,
   "metadata": {},
   "outputs": [],
   "source": [
    "import torch\n",
    "import torch.nn as nn\n",
    "import torch.optim as optim\n",
    "from rnn_model import SimpleRNN\n",
    "import numpy as np\n",
    "\n",
    "# Número de secuencias\n",
    "num_sequences = 5\n",
    "# Longitud de cada secuencia (número de fotogramas)\n",
    "sequence_length = 10\n",
    "# Número de puntos clave\n",
    "num_keypoints = 17\n",
    "# Número de características por punto clave (x, y)\n",
    "num_features = 2\n",
    "\n",
    "\n",
    "training_data = np.random.rand(num_sequences, sequence_length, num_keypoints * num_features)\n",
    "\n",
    "labels = np.random.randint(0, 10, num_sequences)\n",
    "\n",
    "# Convertir a tensores\n",
    "inputs = torch.tensor(training_data, dtype=torch.float32)\n",
    "labels = torch.tensor(labels, dtype=torch.long)\n",
    "\n",
    "# Hiperparámetros\n",
    "learning_rate = 0.001\n",
    "num_epochs = 100\n",
    "hidden_size = 128\n",
    "num_layers = 2\n",
    "input_size = num_keypoints * num_features\n",
    "num_classes = 10\n",
    "\n",
    "model = SimpleRNN(input_size, hidden_size, num_layers, num_classes)\n",
    "model = model.cuda() if torch.cuda.is_available() else model\n",
    "\n",
    "criterion = nn.CrossEntropyLoss()\n",
    "optimizer = optim.Adam(model.parameters(), lr=learning_rate)\n",
    "\n",
    "# Bucle de entrenamiento\n",
    "for epoch in range(num_epochs):\n",
    "    model.train()\n",
    "    outputs = model(inputs)\n",
    "    loss = criterion(outputs, labels)\n",
    "    \n",
    "    optimizer.zero_grad()\n",
    "    loss.backward()\n",
    "    optimizer.step()\n",
    "    \n",
    "    if (epoch+1) % 10 == 0:\n",
    "        print(f'Epoch [{epoch+1}/{num_epochs}], Loss: {loss.item():.4f}')\n"
   ]
  }
 ],
 "metadata": {
  "kernelspec": {
   "display_name": "Python 3",
   "language": "python",
   "name": "python3"
  },
  "language_info": {
   "codemirror_mode": {
    "name": "ipython",
    "version": 3
   },
   "file_extension": ".py",
   "mimetype": "text/x-python",
   "name": "python",
   "nbconvert_exporter": "python",
   "pygments_lexer": "ipython3",
   "version": "3.12.3"
  }
 },
 "nbformat": 4,
 "nbformat_minor": 2
}
